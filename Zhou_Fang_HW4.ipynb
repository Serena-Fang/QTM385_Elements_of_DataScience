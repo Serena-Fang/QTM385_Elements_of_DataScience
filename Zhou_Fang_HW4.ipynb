{
 "cells": [
  {
   "cell_type": "markdown",
   "metadata": {},
   "source": [
    "# QTM 385\n",
    "\n",
    "***\n",
    "\n",
    "## Homework 4\n",
    "\n",
    "Student: [Zhou Fang]"
   ]
  },
  {
   "cell_type": "markdown",
   "metadata": {},
   "source": [
    "In this homework, we will create an object called Student, that is useful for a professor to store information about a student."
   ]
  },
  {
   "cell_type": "markdown",
   "metadata": {},
   "source": [
    "\n",
    "***\n",
    "\n",
    "### Question 1\n",
    "\n",
    "Create a class Student, that has:\n",
    "\n",
    "0. Id number (5-digits integer, starting with 1)\n",
    "1. First Name (str)\n",
    "2. Last Name (str)\n",
    "3. Grades (list of floats)\n",
    "4. Credits (list of integers)\n",
    "5. Major (str)\n",
    "\n",
    "Provide a constructor for your class and create one fictitious student."
   ]
  },
  {
   "cell_type": "code",
   "execution_count": 1,
   "metadata": {},
   "outputs": [],
   "source": [
    "class Student:\n",
    "    def __init__(self, i, fn, ln, gr, cr, ma):\n",
    "        self.id = i\n",
    "        self.fname = fn\n",
    "        self.lname = ln\n",
    "        self.grades = gr\n",
    "        self.credits = cr\n",
    "        self.major = ma\n",
    "        \n",
    "stu1 = Student(12345, 'Serena', 'Fang', [90.1,91.1], [2,3], 'CS')"
   ]
  },
  {
   "cell_type": "markdown",
   "metadata": {},
   "source": [
    "\n",
    "***\n",
    "\n",
    "### Question 2\n",
    "\n",
    "Create a method to nicely display the student when we type `print`. It should display, for example:\n",
    "\n",
    "```\n",
    "Student:\n",
    "    Id: 12345\n",
    "    Name: Mig, Umberto\n",
    "    Major: QSS\n",
    "```\n",
    "\n",
    "Create a method that, when a variable storing a student is typed in the console, displays:\n",
    "\n",
    "```\n",
    "Student(Mig, Umberto; 12345)\n",
    "```\n",
    "\n",
    "Provide some testing with a fictitious result of your choice."
   ]
  },
  {
   "cell_type": "code",
   "execution_count": 7,
   "metadata": {},
   "outputs": [],
   "source": [
    "class Student:\n",
    "    def __init__(self, i, fn, ln, gr, cr, ma):\n",
    "        self.id = i\n",
    "        self.fname = fn\n",
    "        self.lname = ln\n",
    "        self.grades = gr\n",
    "        self.credits = cr\n",
    "        self.major = ma\n",
    "        \n",
    "    def __str__(self):\n",
    "        st_info = \"\"\"\n",
    "Student:\n",
    "    Id: {i}\n",
    "    Name: {fn}, {ln}\n",
    "    Major: {ma}\n",
    "    \"\"\".format(i = self.id, fn = self.fname, ln = self.lname, ma = self.major)    \n",
    "        return st_info\n",
    "    \n",
    "    def __repr__(self):\n",
    "        return \"Student: {fn}, {ln}; {i}\".format(fn = self.fname, ln = self.lname, i = self.id)"
   ]
  },
  {
   "cell_type": "code",
   "execution_count": 8,
   "metadata": {},
   "outputs": [
    {
     "name": "stdout",
     "output_type": "stream",
     "text": [
      "\n",
      "Student:\n",
      "    Id: 12345\n",
      "    Name: Serena, Fang\n",
      "    Major: CS\n",
      "    \n"
     ]
    },
    {
     "data": {
      "text/plain": [
       "Student: Serena, Fang; 12345"
      ]
     },
     "execution_count": 8,
     "metadata": {},
     "output_type": "execute_result"
    }
   ],
   "source": [
    "stu1 = Student(12345, 'Serena', 'Fang', [90.1,91.1], [2,3], 'CS')\n",
    "print(stu1)\n",
    "stu1"
   ]
  },
  {
   "cell_type": "markdown",
   "metadata": {},
   "source": [
    "\n",
    "***\n",
    "\n",
    "### Question 3\n",
    "\n",
    "Implement class methods for:\n",
    "\n",
    "1. Check if the id number is valid (remember: 5 digits, starting with number one)\n",
    "2. Check if the grades list has the same length as the credits list. The idea is that every grade corresponds to a course that gave the student a certain amount of credits.\n",
    "3. Append grade and credit: given a grade, and credits attached to the grade, append both to each respective place.\n",
    "\n",
    "Test your function with a toy student of your choice."
   ]
  },
  {
   "cell_type": "code",
   "execution_count": 36,
   "metadata": {},
   "outputs": [],
   "source": [
    "class Student:\n",
    "    def __init__(self, i, fn, ln, gr, cr, ma):\n",
    "        self.id = i\n",
    "        self.fname = fn\n",
    "        self.lname = ln\n",
    "        self.grades = gr\n",
    "        self.credits = cr\n",
    "        self.major = ma\n",
    "        \n",
    "    def __str__(self):\n",
    "        st_info = \"\"\"\n",
    "Student:\n",
    "    Id: {i}\n",
    "    Name: {fn}, {ln}\n",
    "    Major: {ma}\n",
    "    \"\"\".format(i = self.id, fn = self.fname, ln = self.lname, ma = self.major)    \n",
    "        return st_info\n",
    "    \n",
    "    def __repr__(self):\n",
    "        return \"Student: {fn}, {ln}; {i}\".format(fn = self.fname, ln = self.lname, i = self.id)\n",
    "    \n",
    "    def valid_id(self):\n",
    "        if len(str(self.id)) == 5:\n",
    "            return True\n",
    "        else:\n",
    "            return False\n",
    "        \n",
    "    def grade_credit(self):\n",
    "        if len(self.grades) == len(self.credits):\n",
    "            return True\n",
    "        else:\n",
    "            return False\n",
    "        \n",
    "    def gr_cr_append(self):\n",
    "        list = []\n",
    "        for i in range(len(self.grades)):\n",
    "            res = []\n",
    "            res.append(self.grades[i])\n",
    "            res.append(self.credits[i])\n",
    "            list.append(res)\n",
    "        return list"
   ]
  },
  {
   "cell_type": "code",
   "execution_count": 37,
   "metadata": {},
   "outputs": [
    {
     "name": "stdout",
     "output_type": "stream",
     "text": [
      "True\n",
      "True\n",
      "[[90.1, 2], [91.1, 3]]\n"
     ]
    }
   ],
   "source": [
    "stu1 = Student(12345, 'Serena', 'Fang', [90.1,91.1], [2,3], 'CS')\n",
    "print(stu1.valid_id())\n",
    "print(stu1.grade_credit())\n",
    "print(stu1.gr_cr_append())"
   ]
  },
  {
   "cell_type": "code",
   "execution_count": 38,
   "metadata": {},
   "outputs": [
    {
     "name": "stdout",
     "output_type": "stream",
     "text": [
      "False\n",
      "False\n"
     ]
    },
    {
     "ename": "IndexError",
     "evalue": "list index out of range",
     "output_type": "error",
     "traceback": [
      "\u001b[0;31m---------------------------------------------------------------------------\u001b[0m",
      "\u001b[0;31mIndexError\u001b[0m                                Traceback (most recent call last)",
      "\u001b[0;32m<ipython-input-38-0ab3c5b03a56>\u001b[0m in \u001b[0;36m<module>\u001b[0;34m\u001b[0m\n\u001b[1;32m      2\u001b[0m \u001b[0mprint\u001b[0m\u001b[0;34m(\u001b[0m\u001b[0mstu2\u001b[0m\u001b[0;34m.\u001b[0m\u001b[0mvalid_id\u001b[0m\u001b[0;34m(\u001b[0m\u001b[0;34m)\u001b[0m\u001b[0;34m)\u001b[0m\u001b[0;34m\u001b[0m\u001b[0;34m\u001b[0m\u001b[0m\n\u001b[1;32m      3\u001b[0m \u001b[0mprint\u001b[0m\u001b[0;34m(\u001b[0m\u001b[0mstu2\u001b[0m\u001b[0;34m.\u001b[0m\u001b[0mgrade_credit\u001b[0m\u001b[0;34m(\u001b[0m\u001b[0;34m)\u001b[0m\u001b[0;34m)\u001b[0m\u001b[0;34m\u001b[0m\u001b[0;34m\u001b[0m\u001b[0m\n\u001b[0;32m----> 4\u001b[0;31m \u001b[0mprint\u001b[0m\u001b[0;34m(\u001b[0m\u001b[0mstu2\u001b[0m\u001b[0;34m.\u001b[0m\u001b[0mgr_cr_append\u001b[0m\u001b[0;34m(\u001b[0m\u001b[0;34m)\u001b[0m\u001b[0;34m)\u001b[0m\u001b[0;34m\u001b[0m\u001b[0;34m\u001b[0m\u001b[0m\n\u001b[0m",
      "\u001b[0;32m<ipython-input-36-50af92173964>\u001b[0m in \u001b[0;36mgr_cr_append\u001b[0;34m(self)\u001b[0m\n\u001b[1;32m     37\u001b[0m             \u001b[0mres\u001b[0m \u001b[0;34m=\u001b[0m \u001b[0;34m[\u001b[0m\u001b[0;34m]\u001b[0m\u001b[0;34m\u001b[0m\u001b[0;34m\u001b[0m\u001b[0m\n\u001b[1;32m     38\u001b[0m             \u001b[0mres\u001b[0m\u001b[0;34m.\u001b[0m\u001b[0mappend\u001b[0m\u001b[0;34m(\u001b[0m\u001b[0mself\u001b[0m\u001b[0;34m.\u001b[0m\u001b[0mgrades\u001b[0m\u001b[0;34m[\u001b[0m\u001b[0mi\u001b[0m\u001b[0;34m]\u001b[0m\u001b[0;34m)\u001b[0m\u001b[0;34m\u001b[0m\u001b[0;34m\u001b[0m\u001b[0m\n\u001b[0;32m---> 39\u001b[0;31m             \u001b[0mres\u001b[0m\u001b[0;34m.\u001b[0m\u001b[0mappend\u001b[0m\u001b[0;34m(\u001b[0m\u001b[0mself\u001b[0m\u001b[0;34m.\u001b[0m\u001b[0mcredits\u001b[0m\u001b[0;34m[\u001b[0m\u001b[0mi\u001b[0m\u001b[0;34m]\u001b[0m\u001b[0;34m)\u001b[0m\u001b[0;34m\u001b[0m\u001b[0;34m\u001b[0m\u001b[0m\n\u001b[0m\u001b[1;32m     40\u001b[0m             \u001b[0mlist\u001b[0m\u001b[0;34m.\u001b[0m\u001b[0mappend\u001b[0m\u001b[0;34m(\u001b[0m\u001b[0mres\u001b[0m\u001b[0;34m)\u001b[0m\u001b[0;34m\u001b[0m\u001b[0;34m\u001b[0m\u001b[0m\n\u001b[1;32m     41\u001b[0m         \u001b[0;32mreturn\u001b[0m \u001b[0mlist\u001b[0m\u001b[0;34m\u001b[0m\u001b[0;34m\u001b[0m\u001b[0m\n",
      "\u001b[0;31mIndexError\u001b[0m: list index out of range"
     ]
    }
   ],
   "source": [
    "stu2 = Student(123456, 'Serena', 'Fang', [90.1,91.1, 92,1], [2,3], 'CS')\n",
    "print(stu2.valid_id())\n",
    "print(stu2.grade_credit())\n",
    "print(stu2.gr_cr_append())"
   ]
  },
  {
   "cell_type": "markdown",
   "metadata": {},
   "source": [
    "\n",
    "***\n",
    "\n",
    "### Question 4\n",
    "\n",
    "Create a module in the class Student that computes the unweighted average of the student's grades."
   ]
  },
  {
   "cell_type": "code",
   "execution_count": 27,
   "metadata": {},
   "outputs": [],
   "source": [
    "class Student:\n",
    "    def __init__(self, i, fn, ln, gr, cr, ma):\n",
    "        self.id = i\n",
    "        self.fname = fn\n",
    "        self.lname = ln\n",
    "        self.grades = gr\n",
    "        self.credits = cr\n",
    "        self.major = ma\n",
    "        \n",
    "    def __str__(self):\n",
    "        st_info = \"\"\"\n",
    "Student:\n",
    "    Id: {i}\n",
    "    Name: {fn}, {ln}\n",
    "    Major: {ma}\n",
    "    \"\"\".format(i = self.id, fn = self.fname, ln = self.lname, ma = self.major)    \n",
    "        return st_info\n",
    "    \n",
    "    def __repr__(self):\n",
    "        return \"Student: {fn}, {ln}; {i}\".format(fn = self.fname, ln = self.lname, i = self.id)\n",
    "    \n",
    "    def valid_id(self):\n",
    "        if len(str(self.id)) == 5:\n",
    "            return True\n",
    "        else:\n",
    "            return False\n",
    "    \n",
    "    def grade_credit(self):\n",
    "        if len(self.grades) == len(self.credits):\n",
    "            return True\n",
    "        else:\n",
    "            return False\n",
    "        \n",
    "    def gr_cr_append(self):\n",
    "        list = []\n",
    "        for i in range(len(self.grades)):\n",
    "            res = []\n",
    "            res.append(self.grades[i])\n",
    "            res.append(self.credits[i])\n",
    "            list.append(res)\n",
    "        return list\n",
    "    \n",
    "    def avg_grades(self):\n",
    "        avg = 0\n",
    "        for grade in self.grades:\n",
    "            avg += grade\n",
    "        avg = avg/len(self.grades)\n",
    "        return avg"
   ]
  },
  {
   "cell_type": "code",
   "execution_count": 28,
   "metadata": {},
   "outputs": [
    {
     "name": "stdout",
     "output_type": "stream",
     "text": [
      "90.6\n"
     ]
    }
   ],
   "source": [
    "stu1 = Student(12345, 'Serena', 'Fang', [90.1,91.1], [2,3], 'CS')\n",
    "print(stu1.avg_grades())"
   ]
  },
  {
   "cell_type": "markdown",
   "metadata": {},
   "source": [
    "\n",
    "***\n",
    "\n",
    "### Question 5\n",
    "\n",
    "Create a module in the class Student that computes the weighted average of the student's grades, weighted by the credits."
   ]
  },
  {
   "cell_type": "code",
   "execution_count": 40,
   "metadata": {},
   "outputs": [],
   "source": [
    "class Student:\n",
    "    def __init__(self, i, fn, ln, gr, cr, ma):\n",
    "        self.id = i\n",
    "        self.fname = fn\n",
    "        self.lname = ln\n",
    "        self.grades = gr\n",
    "        self.credits = cr\n",
    "        self.major = ma\n",
    "        \n",
    "    def __str__(self):\n",
    "        st_info = \"\"\"\n",
    "Student:\n",
    "    Id: {i}\n",
    "    Name: {fn}, {ln}\n",
    "    Major: {ma}\n",
    "    \"\"\".format(i = self.id, fn = self.fname, ln = self.lname, ma = self.major)    \n",
    "        return st_info\n",
    "    \n",
    "    def __repr__(self):\n",
    "        return \"Student: {fn}, {ln}; {i}\".format(fn = self.fname, ln = self.lname, i = self.id)\n",
    "    \n",
    "    def valid_id(self):\n",
    "        if len(str(self.id)) == 5:\n",
    "            return True\n",
    "        else:\n",
    "            return False\n",
    "    \n",
    "    def grade_credit(self):\n",
    "        if len(self.grades) == len(self.credits):\n",
    "            return True\n",
    "        else:\n",
    "            return False\n",
    "        \n",
    "    def gr_cr_append(self):\n",
    "        list = []\n",
    "        for i in range(len(self.grades)):\n",
    "            res = []\n",
    "            res.append(self.grades[i])\n",
    "            res.append(self.credits[i])\n",
    "            list.append(res)\n",
    "        return list\n",
    "    \n",
    "    def avg_grades(self):\n",
    "        avg = 0\n",
    "        for grade in self.grades:\n",
    "            avg += grade\n",
    "        avg = avg/len(self.grades)\n",
    "        return avg\n",
    "    \n",
    "    def avg_weighted(self):\n",
    "        grades = self.gr_cr_append()\n",
    "        avg_w = 0\n",
    "        cr_total = 0\n",
    "        for grade in grades:\n",
    "            avg_w += grade[0]*grade[1]\n",
    "            cr_total += grade[1]\n",
    "        avg_w = avg_w/cr_total\n",
    "        return avg_w"
   ]
  },
  {
   "cell_type": "code",
   "execution_count": 41,
   "metadata": {},
   "outputs": [
    {
     "name": "stdout",
     "output_type": "stream",
     "text": [
      "90.69999999999999\n"
     ]
    }
   ],
   "source": [
    "stu1 = Student(12345, 'Serena', 'Fang', [90.1,91.1], [2,3], 'CS')\n",
    "print(stu1.avg_weighted())"
   ]
  },
  {
   "cell_type": "markdown",
   "metadata": {},
   "source": [
    "**That's all, folks!**"
   ]
  }
 ],
 "metadata": {
  "kernelspec": {
   "display_name": "Python 3",
   "language": "python",
   "name": "python3"
  },
  "language_info": {
   "codemirror_mode": {
    "name": "ipython",
    "version": 3
   },
   "file_extension": ".py",
   "mimetype": "text/x-python",
   "name": "python",
   "nbconvert_exporter": "python",
   "pygments_lexer": "ipython3",
   "version": "3.7.6"
  }
 },
 "nbformat": 4,
 "nbformat_minor": 4
}
